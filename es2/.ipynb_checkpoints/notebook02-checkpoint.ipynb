{
 "cells": [
  {
   "cell_type": "markdown",
   "id": "9634cf75-1ea8-4520-8575-41d0ee411920",
   "metadata": {},
   "source": [
    "# ESERCITAZIONE 2"
   ]
  },
  {
   "cell_type": "code",
   "execution_count": null,
   "id": "a80f58e8-e3d1-4665-9f88-530ea4457178",
   "metadata": {},
   "outputs": [],
   "source": []
  }
 ],
 "metadata": {
  "kernelspec": {
   "display_name": "Python 3 (ipykernel)",
   "language": "python",
   "name": "python3"
  },
  "language_info": {
   "codemirror_mode": {
    "name": "ipython",
    "version": 3
   },
   "file_extension": ".py",
   "mimetype": "text/x-python",
   "name": "python",
   "nbconvert_exporter": "python",
   "pygments_lexer": "ipython3",
   "version": "3.9.20"
  }
 },
 "nbformat": 4,
 "nbformat_minor": 5
}
